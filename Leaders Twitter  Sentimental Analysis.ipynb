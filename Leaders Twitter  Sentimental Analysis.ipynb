{
 "cells": [
  {
   "cell_type": "code",
   "execution_count": 1,
   "metadata": {},
   "outputs": [],
   "source": [
    "import numpy as np\n",
    "import matplotlib.pyplot as plt\n",
    "import re # regular expression \n",
    "import tweepy #access to tweet app\n",
    "from tweepy import OAuthHandler #authenication \n",
    "from textblob import TextBlob #text/tweet parse"
   ]
  },
  {
   "cell_type": "markdown",
   "metadata": {},
   "source": [
    "## Twitter API dealing class"
   ]
  },
  {
   "cell_type": "code",
   "execution_count": 2,
   "metadata": {},
   "outputs": [],
   "source": [
    "class TwitterClient(object):\n",
    "    # Connecting to Twitter API\n",
    "    def __init__(self):  \n",
    "        # keys and tokens from the Twitter Dev Console\n",
    "        consumer_key = 'TL7RyLnfilYH6xaoAlS0XFDCg'\n",
    "        consumer_secret = 'u5uBn4P62PMIxT4uwUVTl1Ycx4rsfByFs6jl2e4SQ9zDjPIzCO'\n",
    "        access_token = '919434545924935681-2woCDEXuXQdhJewDaCRBqHBYmi5SFDN'\n",
    "        access_token_secret = 'T29jqUm6rZqsRYO7AGc47GlgYTaAaN5OtJD0DATo1uBjh'\n",
    " \n",
    "        # attempt authentication\n",
    "        try:\n",
    "            # create OAuthHandler object\n",
    "            self.auth = OAuthHandler(consumer_key, consumer_secret)\n",
    "            # set access token and secret\n",
    "            self.auth.set_access_token(access_token, access_token_secret)\n",
    "            # create tweepy API object to fetch tweets\n",
    "            self.api = tweepy.API(self.auth)\n",
    "            print('auth. success')\n",
    "            \n",
    "            \n",
    "        except:\n",
    "            print(\"Error: Authentication Failed\")\n",
    " \n",
    "    def clean_tweet(self, tweet):\n",
    "        # Utility function to clean tweet text by removing links, special characters using simple regex statements.\n",
    "        return ' '.join(re.sub(\"(@[A-Za-z0-9]+)|([^0-9A-Za-z \\t]) |(\\w+:\\/\\/\\S+)\", \" \", tweet).split())\n",
    "    \n",
    " \n",
    "    def get_tweet_sentiment(self, tweet):\n",
    "        # Utility function to classify sentiment of passed tweet using textblob's sentiment method\n",
    "        # create TextBlob object of passed tweet text\n",
    "        analysis = TextBlob(self.clean_tweet(tweet))\n",
    "        # set sentiment\n",
    "        if analysis.sentiment.polarity > 0:\n",
    "            return 'positive'\n",
    "        elif analysis.sentiment.polarity == 0:\n",
    "            return 'neutral'\n",
    "        else:\n",
    "            return 'negative'\n",
    " \n",
    "    def get_tweets(self, query, count=10):\n",
    "        # Main function to fetch tweets and parse them.\n",
    "        # empty list to store parsed tweets\n",
    "        tweets = []\n",
    " \n",
    "        try:\n",
    "            # call twitter api to fetch tweets\n",
    "            fetched_tweets = self.api.search(q = query, count = count)\n",
    " \n",
    "            # parsing tweets one by one\n",
    "            for tweet in fetched_tweets:\n",
    "                # empty dictionary to store required params of a tweet\n",
    "                parsed_tweet = {}\n",
    " \n",
    "                # saving text of tweet\n",
    "                parsed_tweet['text'] = tweet.text\n",
    "                # saving sentiment of tweet\n",
    "                parsed_tweet['sentiment'] = self.get_tweet_sentiment(tweet.text)\n",
    " \n",
    "                # appending parsed tweet to tweets list\n",
    "                if tweet.retweet_count > 0:\n",
    "                    # if tweet has retweets, ensure that it is appended only once\n",
    "                    if parsed_tweet not in tweets:\n",
    "                        tweets.append(parsed_tweet)\n",
    "                else:\n",
    "                    tweets.append(parsed_tweet)\n",
    " \n",
    "            # return parsed tweets\n",
    "            return tweets\n",
    " \n",
    "        except tweepy.TweepError as e:\n",
    "            # print error (if any)\n",
    "            print(\"Error : \" + str(e))"
   ]
  },
  {
   "cell_type": "markdown",
   "metadata": {},
   "source": [
    "## Applying Sentimental Analysis"
   ]
  },
  {
   "cell_type": "code",
   "execution_count": 3,
   "metadata": {},
   "outputs": [],
   "source": [
    "def get_tweet_result(leader):    \n",
    "    #print(leader)\n",
    "     # creating object of TwitterClient Class\n",
    "    api = TwitterClient()\n",
    "    # calling function to get tweets\n",
    "    tweets = api.get_tweets(query = leader, count = 200) #no. of tweets\n",
    "    #print(tweets)\n",
    "    \n",
    "    # picking positive tweets from tweets\n",
    "    ptweets = [tweet for tweet in tweets if tweet['sentiment'] == 'positive']\n",
    "    \n",
    "    result=[];                           \n",
    "    # percentage of positive tweets\n",
    "    #print(\"Positive tweets percentage: {} %\".format(100*len(ptweets)/len(tweets)))\n",
    "    result.append(format(100*len(ptweets)/len(tweets)))\n",
    "    \n",
    "    # picking negative tweets from tweets\n",
    "    ntweets = [tweet for tweet in tweets if tweet['sentiment'] == 'negative']\n",
    "    # percentage of negative tweets\n",
    "    #print(\"Negative tweets percentage: {} %\".format(100*len(ntweets)/len(tweets)))\n",
    "    result.append(format(100*len(ntweets)/len(tweets)))\n",
    "    # percentage of neutral tweets\n",
    "    #print(\"Neutral tweets percentage: {} %\".format(100*(len(tweets) - len(ntweets) - len(ptweets))/len(tweets)))\n",
    "    result.append(format(100*(len(tweets) - len(ntweets) - len(ptweets))/len(tweets)))\n",
    "\n",
    "    return result"
   ]
  },
  {
   "cell_type": "markdown",
   "metadata": {},
   "source": [
    "### List of leaders"
   ]
  },
  {
   "cell_type": "code",
   "execution_count": 4,
   "metadata": {},
   "outputs": [],
   "source": [
    "leaders=['Narendra Modi','Rahul Gandhi','Donald Trump', 'Amit Shah']\n",
    "#Can pass name of any leader as you wish by just appending leader name string \n",
    "#Can also pass any name which has twitter account"
   ]
  },
  {
   "cell_type": "markdown",
   "metadata": {},
   "source": [
    "## Fetching Tweet of each leaders"
   ]
  },
  {
   "cell_type": "code",
   "execution_count": 5,
   "metadata": {},
   "outputs": [],
   "source": [
    "def gettweet():\n",
    "    res=[]\n",
    "    # calling main function\n",
    "    for l in leaders:\n",
    "        res.append(get_tweet_result(l))        \n",
    "    #print(res)\n",
    "    return res"
   ]
  },
  {
   "cell_type": "code",
   "execution_count": 6,
   "metadata": {},
   "outputs": [
    {
     "name": "stdout",
     "output_type": "stream",
     "text": [
      "auth. success\n",
      "auth. success\n",
      "auth. success\n",
      "auth. success\n",
      "[['23.333333333333332', '6.666666666666667', '70.0'], ['23.333333333333332', '13.333333333333334', '63.333333333333336'], ['28.0', '20.0', '52.0'], ['12.5', '10.416666666666666', '77.08333333333333']]\n"
     ]
    }
   ],
   "source": [
    "res = gettweet()\n",
    "print(res)"
   ]
  },
  {
   "cell_type": "markdown",
   "metadata": {},
   "source": [
    "## Ploting Twitter Sentimental Analysis"
   ]
  },
  {
   "cell_type": "code",
   "execution_count": 7,
   "metadata": {},
   "outputs": [],
   "source": [
    "positive=[]\n",
    "negative=[]\n",
    "neutral=[]\n",
    "\n",
    "for i in range(0,len(res)):\n",
    "    positive.append(res[i][0])\n",
    "    negative.append(res[i][1])\n",
    "    neutral.append(res[i][2])"
   ]
  },
  {
   "cell_type": "code",
   "execution_count": 8,
   "metadata": {},
   "outputs": [],
   "source": [
    "from pylab import rcParams\n",
    "rcParams['figure.figsize'] = 10,7"
   ]
  },
  {
   "cell_type": "code",
   "execution_count": 9,
   "metadata": {},
   "outputs": [
    {
     "data": {
      "image/png": "[encoded data removed]",
      "text/plain": [
       "<Figure size 720x504 with 1 Axes>"
      ]
     },
     "metadata": {
      "needs_background": "light"
     },
     "output_type": "display_data"
    }
   ],
   "source": [
    "n_groups = len(leaders)   # No. of leaders \n",
    "# create plot\n",
    "fig, ax = plt.subplots()\n",
    "index = np.arange(n_groups)\n",
    "bar_width = (1/n_groups)\n",
    "opacity = 1\n",
    " \n",
    "rects1 = plt.bar(index, positive, bar_width,\n",
    "                 alpha=opacity,\n",
    "                 color='#45CE30',\n",
    "                 label='positive')\n",
    " \n",
    "rects2 = plt.bar(index + bar_width, negative, bar_width,\n",
    "                 alpha=opacity,\n",
    "                 color='#E71C23',\n",
    "                 label='negative')\n",
    "\n",
    "rects3 = plt.bar(index + bar_width+ bar_width, neutral, bar_width,\n",
    "                 alpha=opacity,\n",
    "                 color='#25CCF7',\n",
    "                 label='neutral')\n",
    "\n",
    "\n",
    "plt.xlabel('Leaders')\n",
    "plt.ylabel('Sentiments')\n",
    "plt.title('Twitter sentiment analysis')\n",
    "plt.xticks(index + bar_width, leaders)\n",
    "plt.legend()\n",
    "plt.show()"
   ]
  }
 ],
 "metadata": {
  "kernelspec": {
   "display_name": "Python 3",
   "language": "python",
   "name": "python3"
  },
  "language_info": {
   "codemirror_mode": {
    "name": "ipython",
    "version": 3
   },
   "file_extension": ".py",
   "mimetype": "text/x-python",
   "name": "python",
   "nbconvert_exporter": "python",
   "pygments_lexer": "ipython3",
   "version": "3.7.3"
  }
 },
 "nbformat": 4,
 "nbformat_minor": 2
}
